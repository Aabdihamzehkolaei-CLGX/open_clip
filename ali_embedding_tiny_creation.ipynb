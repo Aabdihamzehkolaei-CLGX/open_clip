{
 "cells": [
  {
   "cell_type": "code",
   "execution_count": 1,
   "metadata": {},
   "outputs": [],
   "source": [
    "import pandas as pd\n",
    "import pyarrow.parquet as pq\n",
    "import lmdb\n",
    "import pickle\n",
    "import os\n",
    "from tqdm import tqdm\n",
    "import gc \n",
    "import warnings\n",
    "warnings.filterwarnings('ignore')\n",
    "from google.cloud import storage\n",
    "import os\n",
    "import torch\n",
    "from google.cloud import bigquery\n",
    "client = bigquery.Client()\n",
    "import numpy as np\n"
   ]
  },
  {
   "cell_type": "code",
   "execution_count": 2,
   "metadata": {},
   "outputs": [
    {
     "data": {
      "text/plain": [
       "(1200000, 23)"
      ]
     },
     "execution_count": 2,
     "metadata": {},
     "output_type": "execute_result"
    }
   ],
   "source": [
    "raw = pd.read_parquet(\"/home/jupyter/raw.parquet\")\n",
    "raw.shape"
   ]
  },
  {
   "cell_type": "code",
   "execution_count": 3,
   "metadata": {},
   "outputs": [
    {
     "data": {
      "text/html": [
       "<div>\n",
       "<style scoped>\n",
       "    .dataframe tbody tr th:only-of-type {\n",
       "        vertical-align: middle;\n",
       "    }\n",
       "\n",
       "    .dataframe tbody tr th {\n",
       "        vertical-align: top;\n",
       "    }\n",
       "\n",
       "    .dataframe thead th {\n",
       "        text-align: right;\n",
       "    }\n",
       "</style>\n",
       "<table border=\"1\" class=\"dataframe\">\n",
       "  <thead>\n",
       "    <tr style=\"text-align: right;\">\n",
       "      <th></th>\n",
       "      <th>clip</th>\n",
       "      <th>syspropertyid</th>\n",
       "      <th>baths_final</th>\n",
       "      <th>state_final</th>\n",
       "      <th>beds_final</th>\n",
       "      <th>property_type_final</th>\n",
       "      <th>pool_final</th>\n",
       "      <th>foundation_final</th>\n",
       "      <th>year_built_final</th>\n",
       "      <th>stories_final</th>\n",
       "      <th>...</th>\n",
       "      <th>addressstreetaddress</th>\n",
       "      <th>addresscity</th>\n",
       "      <th>addressstate</th>\n",
       "      <th>addresspostalcode</th>\n",
       "      <th>publicremarks</th>\n",
       "      <th>train</th>\n",
       "      <th>val</th>\n",
       "      <th>test</th>\n",
       "      <th>just_imagelink1</th>\n",
       "      <th>all_files</th>\n",
       "    </tr>\n",
       "  </thead>\n",
       "  <tbody>\n",
       "    <tr>\n",
       "      <th>0</th>\n",
       "      <td>5594364891</td>\n",
       "      <td>[466][801484][2018][801484]</td>\n",
       "      <td>2</td>\n",
       "      <td>IA</td>\n",
       "      <td>3</td>\n",
       "      <td>SFR</td>\n",
       "      <td>no</td>\n",
       "      <td></td>\n",
       "      <td>1966</td>\n",
       "      <td>-1.0</td>\n",
       "      <td>...</td>\n",
       "      <td>520 SE 6th Ave.</td>\n",
       "      <td>Lemars</td>\n",
       "      <td>IA</td>\n",
       "      <td>51031</td>\n",
       "      <td>A diamond in the rough. This is a solid home i...</td>\n",
       "      <td>False</td>\n",
       "      <td>False</td>\n",
       "      <td>True</td>\n",
       "      <td>GSC_RES_801484_1.jpg</td>\n",
       "      <td>[GSC_RES_801484_1.jpg, GSC_RES_801484_5.jpg, G...</td>\n",
       "    </tr>\n",
       "  </tbody>\n",
       "</table>\n",
       "<p>1 rows × 23 columns</p>\n",
       "</div>"
      ],
      "text/plain": [
       "         clip                syspropertyid  baths_final state_final  \\\n",
       "0  5594364891  [466][801484][2018][801484]            2          IA   \n",
       "\n",
       "   beds_final property_type_final pool_final foundation_final  \\\n",
       "0           3                 SFR         no                    \n",
       "\n",
       "   year_built_final  stories_final  ...  addressstreetaddress addresscity  \\\n",
       "0              1966           -1.0  ...       520 SE 6th Ave.      Lemars   \n",
       "\n",
       "  addressstate addresspostalcode  \\\n",
       "0           IA             51031   \n",
       "\n",
       "                                       publicremarks  train    val  test  \\\n",
       "0  A diamond in the rough. This is a solid home i...  False  False  True   \n",
       "\n",
       "        just_imagelink1                                          all_files  \n",
       "0  GSC_RES_801484_1.jpg  [GSC_RES_801484_1.jpg, GSC_RES_801484_5.jpg, G...  \n",
       "\n",
       "[1 rows x 23 columns]"
      ]
     },
     "execution_count": 3,
     "metadata": {},
     "output_type": "execute_result"
    }
   ],
   "source": [
    "raw.head(1)"
   ]
  },
  {
   "cell_type": "code",
   "execution_count": 40,
   "metadata": {},
   "outputs": [],
   "source": [
    "df = raw.iloc[10000:12000]\n",
    "image_dict = df.groupby('just_imagelink1')['all_files'].apply(list).to_dict()"
   ]
  },
  {
   "cell_type": "code",
   "execution_count": 41,
   "metadata": {},
   "outputs": [
    {
     "name": "stderr",
     "output_type": "stream",
     "text": [
      "100%|██████████| 2000/2000 [00:18<00:00, 105.36it/s]\n"
     ]
    }
   ],
   "source": [
    "env = lmdb.open('/mnt/disks/multi_mls/database/' + 'mylmdb', map_size=1e12)\n",
    "\n",
    "def read_lmdb(txn, key):\n",
    "        lmdb_data = txn.get(key.encode())\n",
    "        lmdb_data = pickle.loads(lmdb_data)\n",
    "        return lmdb_data\n",
    "    \n",
    "embed_dict = {}\n",
    "with env.begin(write=False) as txn:\n",
    "    for key in tqdm(image_dict.keys()):\n",
    "        # print(read_lmdb(txn, key))\n",
    "        # break\n",
    "        try:\n",
    "          embed = [read_lmdb(txn, i)['embedding'] for i in image_dict[key][0]]\n",
    "          embed_dict[read_lmdb(txn, key)['publicremarks']] = embed\n",
    "        except:\n",
    "          pass\n",
    "\n",
    "env.close()"
   ]
  },
  {
   "cell_type": "code",
   "execution_count": 2,
   "metadata": {},
   "outputs": [
    {
     "name": "stdout",
     "output_type": "stream",
     "text": [
      "Number of keys in the LMDB dataset: 23741512\n"
     ]
    }
   ],
   "source": [
    "import lmdb\n",
    "\n",
    "lmdb_path = '/mnt/disks/multi_mls/database/mylmdb'\n",
    "\n",
    "# Open the LMDB database\n",
    "env = lmdb.open(lmdb_path, readonly=True)\n",
    "\n",
    "# Get the number of keys in the database\n",
    "with env.begin() as txn:\n",
    "    num_keys = txn.stat()['entries']\n",
    "\n",
    "# Close the LMDB database\n",
    "env.close()\n",
    "\n",
    "print(f\"Number of keys in the LMDB dataset: {num_keys}\")"
   ]
  },
  {
   "cell_type": "code",
   "execution_count": 9,
   "metadata": {},
   "outputs": [
    {
     "name": "stdout",
     "output_type": "stream",
     "text": [
      "Number of keys in the LMDB dataset: 23741512\n",
      "\n",
      "clip                                                           5594364891\n",
      "syspropertyid                                 [466][801484][2018][801484]\n",
      "baths_final                                                             2\n",
      "state_final                                                            IA\n",
      "beds_final                                                              3\n",
      "property_type_final                                                   SFR\n",
      "pool_final                                                             no\n",
      "foundation_final                                                         \n",
      "year_built_final                                                     1966\n",
      "stories_final                                                        -1.0\n",
      "square_feet_final                                                  1506.0\n",
      "fa_listid                                                          801484\n",
      "fa_apn                                                         1216285003\n",
      "addressstreetaddress                                      520 SE 6th Ave.\n",
      "addresscity                                                        Lemars\n",
      "addressstate                                                           IA\n",
      "addresspostalcode                                                   51031\n",
      "imagelink1              /MLS_PHOTOS/GSC/Photos/84/14/80/GSC_RES_801484...\n",
      "publicremarks           A diamond in the rough. This is a solid home i...\n",
      "row_num                                                                 1\n",
      "train                                                               False\n",
      "val                                                                 False\n",
      "test                                                                 True\n",
      "just_imagelink1                                      GSC_RES_801484_1.jpg\n",
      "filename                                             GSC_RES_801484_1.jpg\n",
      "embedding               [0.2803284823894501, 0.15800431370735168, 0.15...\n",
      "Name: 18416, dtype: object\n"
     ]
    }
   ],
   "source": [
    "import lmdb\n",
    "\n",
    "lmdb_path = '/mnt/disks/multi_mls/database/mylmdb'\n",
    "\n",
    "# Open the LMDB database\n",
    "env = lmdb.open(lmdb_path, readonly=True)\n",
    "\n",
    "# Get the number of keys in the database and print the first key-value pair\n",
    "with env.begin() as txn:\n",
    "    num_keys = txn.stat()['entries']\n",
    "    first_key = txn.get(b'GSC_RES_801484_1.jpg')  # Assuming keys are byte strings of integers\n",
    "\n",
    "# Close the LMDB database\n",
    "env.close()\n",
    "\n",
    "print(f\"Number of keys in the LMDB dataset: {num_keys}\\n\")\n",
    "print(pickle.loads(first_key))"
   ]
  },
  {
   "cell_type": "code",
   "execution_count": 42,
   "metadata": {},
   "outputs": [
    {
     "data": {
      "text/plain": [
       "(1788, 2)"
      ]
     },
     "execution_count": 42,
     "metadata": {},
     "output_type": "execute_result"
    }
   ],
   "source": [
    "final_df = pd.DataFrame(embed_dict.items(), columns=['just_imagelink1', 'embeddings'])\n",
    "final_df.shape"
   ]
  },
  {
   "cell_type": "code",
   "execution_count": 44,
   "metadata": {},
   "outputs": [
    {
     "data": {
      "text/html": [
       "<div>\n",
       "<style scoped>\n",
       "    .dataframe tbody tr th:only-of-type {\n",
       "        vertical-align: middle;\n",
       "    }\n",
       "\n",
       "    .dataframe tbody tr th {\n",
       "        vertical-align: top;\n",
       "    }\n",
       "\n",
       "    .dataframe thead th {\n",
       "        text-align: right;\n",
       "    }\n",
       "</style>\n",
       "<table border=\"1\" class=\"dataframe\">\n",
       "  <thead>\n",
       "    <tr style=\"text-align: right;\">\n",
       "      <th></th>\n",
       "      <th>just_imagelink1</th>\n",
       "      <th>embeddings</th>\n",
       "    </tr>\n",
       "  </thead>\n",
       "  <tbody>\n",
       "    <tr>\n",
       "      <th>0</th>\n",
       "      <td>This home just got a face lift. New Paint thro...</td>\n",
       "      <td>[[0.23979590833187103, 0.6656813025474548, -0....</td>\n",
       "    </tr>\n",
       "  </tbody>\n",
       "</table>\n",
       "</div>"
      ],
      "text/plain": [
       "                                     just_imagelink1  \\\n",
       "0  This home just got a face lift. New Paint thro...   \n",
       "\n",
       "                                          embeddings  \n",
       "0  [[0.23979590833187103, 0.6656813025474548, -0....  "
      ]
     },
     "execution_count": 44,
     "metadata": {},
     "output_type": "execute_result"
    }
   ],
   "source": [
    "final_df.head(1)"
   ]
  },
  {
   "cell_type": "code",
   "execution_count": 39,
   "metadata": {},
   "outputs": [],
   "source": [
    "final_df.to_pickle('/home/jupyter/open_clip/test_run.pkl')"
   ]
  },
  {
   "cell_type": "code",
   "execution_count": 43,
   "metadata": {},
   "outputs": [],
   "source": [
    "final_df.to_pickle('/home/jupyter/open_clip/test_run_val.pkl')"
   ]
  },
  {
   "cell_type": "code",
   "execution_count": null,
   "metadata": {},
   "outputs": [],
   "source": []
  },
  {
   "cell_type": "code",
   "execution_count": null,
   "metadata": {},
   "outputs": [],
   "source": []
  },
  {
   "cell_type": "code",
   "execution_count": null,
   "metadata": {},
   "outputs": [],
   "source": [
    "new_query = f\"\"\"\n",
    "SELECT imagelink1,\n",
    "train, valid, test\n",
    "FROM `clgx-imanalytics-app-sbx-7342.multi_image_rd.tiny_exploded_complete` \n",
    "   \"\"\"\n",
    "    \n",
    "df = client.query(new_query).to_dataframe()\n",
    "df.shape"
   ]
  }
 ],
 "metadata": {
  "kernelspec": {
   "display_name": "lavin",
   "language": "python",
   "name": "lavin"
  },
  "language_info": {
   "codemirror_mode": {
    "name": "ipython",
    "version": 3
   },
   "file_extension": ".py",
   "mimetype": "text/x-python",
   "name": "python",
   "nbconvert_exporter": "python",
   "pygments_lexer": "ipython3",
   "version": "3.8.18"
  }
 },
 "nbformat": 4,
 "nbformat_minor": 2
}
